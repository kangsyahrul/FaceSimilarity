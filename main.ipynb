{
  "nbformat": 4,
  "nbformat_minor": 0,
  "metadata": {
    "colab": {
      "name": "main.ipynb",
      "provenance": []
    },
    "kernelspec": {
      "name": "python3",
      "display_name": "Python 3"
    },
    "language_info": {
      "name": "python"
    }
  },
  "cells": [
    {
      "cell_type": "code",
      "metadata": {
        "id": "VeYGyQBEoLY-"
      },
      "source": [
        "!pip3 install cmake\n",
        "!pip3 install face-recognition"
      ],
      "execution_count": null,
      "outputs": []
    },
    {
      "cell_type": "code",
      "metadata": {
        "id": "B6rrQM25oJnY"
      },
      "source": [
        "import cv2\n",
        "import face_recognition\n",
        "\n",
        "imgElon = face_recognition.load_image_file('image/elontrain.jpg')\n",
        "# imgElon = face_recognition.load_image_file('image/Jeff-Bezos-2017.jpg')\n",
        "imgElon = cv2.cvtColor(imgElon, cv2.COLOR_BGR2RGB)\n",
        "\n",
        "imgTest = face_recognition.load_image_file('image/Elon-Musk-muda.jpg')\n",
        "imgTest = cv2.cvtColor(imgTest, cv2.COLOR_BGR2RGB)\n",
        "\n",
        "faceLoc = face_recognition.face_locations(imgElon)[0]\n",
        "encodeElon = face_recognition.face_encodings(imgElon)[0]\n",
        "cv2.rectangle(imgElon, (faceLoc[3], faceLoc[0]), (faceLoc[1], faceLoc[2]), (255,0,255), 2)\n",
        "\n",
        "faceLocTest = face_recognition.face_locations(imgTest)[0]\n",
        "encodeTest = face_recognition.face_encodings(imgTest)[0]\n",
        "cv2.rectangle(imgTest, (faceLocTest[3], faceLocTest[0]), (faceLocTest[1], faceLocTest[2]), (255,0,255), 2)\n",
        "\n",
        "results = face_recognition.compare_faces([encodeElon], encodeTest)\n",
        "print(results)"
      ],
      "execution_count": null,
      "outputs": []
    }
  ]
}